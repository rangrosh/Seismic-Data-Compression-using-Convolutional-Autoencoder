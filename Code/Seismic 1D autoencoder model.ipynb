{
 "cells": [
  {
   "cell_type": "code",
   "execution_count": 329,
   "id": "af50c648",
   "metadata": {},
   "outputs": [],
   "source": [
    "from segpy.reader import create_reader\n",
    "import os\n",
    "import numpy as np\n",
    "import matplotlib.pyplot as plt\n",
    "from tensorflow import keras\n",
    "import tensorflow as tf"
   ]
  },
  {
   "cell_type": "code",
   "execution_count": 330,
   "id": "e9dd4bb5",
   "metadata": {},
   "outputs": [],
   "source": [
    "tf.config.run_functions_eagerly(True)"
   ]
  },
  {
   "cell_type": "code",
   "execution_count": 331,
   "id": "9e42aa29",
   "metadata": {},
   "outputs": [
    {
     "data": {
      "text/plain": [
       "[<matplotlib.lines.Line2D at 0x1c05ec794c0>]"
      ]
     },
     "execution_count": 331,
     "metadata": {},
     "output_type": "execute_result"
    },
    {
     "data": {
      "image/png": "[encoded data removed]",
      "text/plain": [
       "<Figure size 432x288 with 1 Axes>"
      ]
     },
     "metadata": {
      "needs_background": "light"
     },
     "output_type": "display_data"
    }
   ],
   "source": [
    "plt.plot(dataset[30])"
   ]
  },
  {
   "cell_type": "code",
   "execution_count": 332,
   "id": "e1194cef",
   "metadata": {},
   "outputs": [],
   "source": [
    "dataset = []\n",
    "\n",
    "directory = r'C:\\Users\\user\\Desktop\\2D\\Correlated_Shot_Gathers'\n",
    "\n",
    "for file_name in os.listdir(directory):\n",
    "    \n",
    "    if file_name != \".segpy\":\n",
    "        \n",
    "        with open(directory + \"\\\\\" + file_name, 'rb') as segy_in_file:\n",
    "\n",
    "            seg_y_dataset = create_reader(segy_in_file, endian='<')\n",
    "\n",
    "            for i in seg_y_dataset.trace_indexes():\n",
    "                dataset.append(seg_y_dataset.trace_samples(i)[:-1])\n",
    "            \n",
    "dataset = np.array(dataset)"
   ]
  },
  {
   "cell_type": "code",
   "execution_count": 333,
   "id": "679c20e5",
   "metadata": {},
   "outputs": [],
   "source": [
    "max_dataset = np.max(dataset, axis = 1)\n",
    "min_dataset = np.min(dataset, axis = 1)"
   ]
  },
  {
   "cell_type": "code",
   "execution_count": 334,
   "id": "d73b8c42",
   "metadata": {},
   "outputs": [],
   "source": [
    "dataset = (dataset - np.repeat(np.expand_dims(min_dataset,axis = 1), 4000, axis = 1))/(np.repeat(np.expand_dims(max_dataset,axis = 1), 4000, axis = 1) - np.repeat(np.expand_dims(min_dataset,axis = 1), 4000, axis = 1))"
   ]
  },
  {
   "cell_type": "code",
   "execution_count": 335,
   "id": "5c21eba8",
   "metadata": {},
   "outputs": [],
   "source": [
    "def get_metrics(x,x_pred):\n",
    "    nmse = np.sum(np.square(x - x_pred))/np.sum(np.square(x))\n",
    "    nrmse = np.sqrt(np.mean(np.square(x - x_pred)))/(np.amax(x) - np.amin(x))\n",
    "    snr = -10*np.log10(nmse)\n",
    "    return nmse, nrmse, snr"
   ]
  },
  {
   "cell_type": "markdown",
   "id": "13b47474",
   "metadata": {},
   "source": [
    "CR 5:1"
   ]
  },
  {
   "cell_type": "code",
   "execution_count": 355,
   "id": "0e046f7f",
   "metadata": {},
   "outputs": [],
   "source": [
    "model = keras.Sequential([\n",
    "    #encoding\n",
    "    keras.layers.Conv1D(16, 3, activation='elu', padding=\"same\", input_shape=[4000,1]),\n",
    "    keras.layers.Conv1D(32, 3, activation='elu', padding=\"same\"),\n",
    "    keras.layers.MaxPooling1D(pool_size=5),\n",
    "    keras.layers.Conv1D(64, 3, activation='elu', padding=\"same\"),\n",
    "    keras.layers.Conv1D(128, 3, activation='elu', padding=\"same\"),\n",
    "    #encoded\n",
    "    keras.layers.Conv1D(1, 3, activation='sigmoid', padding=\"same\"),\n",
    "    #decoding\n",
    "    keras.layers.Conv1DTranspose(128, 3, activation='elu', padding=\"same\"),\n",
    "    keras.layers.Conv1DTranspose(64, 3, activation='elu', padding=\"same\"),\n",
    "    keras.layers.UpSampling1D(size=5),\n",
    "    keras.layers.Conv1DTranspose(32, 3, activation='elu', padding=\"same\"),\n",
    "    keras.layers.Conv1DTranspose(16, 3, activation='elu', padding=\"same\"),\n",
    "    keras.layers.Conv1DTranspose(1, 3, padding=\"same\"),\n",
    "  ])"
   ]
  },
  {
   "cell_type": "code",
   "execution_count": 356,
   "id": "dd556c99",
   "metadata": {},
   "outputs": [],
   "source": [
    "optimizer = tf.keras.optimizers.Adam(0.001)\n",
    "model.compile(loss='mean_squared_error',optimizer=optimizer)"
   ]
  },
  {
   "cell_type": "code",
   "execution_count": 357,
   "id": "ceadd739",
   "metadata": {
    "scrolled": true
   },
   "outputs": [
    {
     "name": "stdout",
     "output_type": "stream",
     "text": [
      "Epoch 1/30\n",
      "57/57 [==============================] - 16s 275ms/step - loss: 0.0388\n",
      "Epoch 2/30\n",
      "57/57 [==============================] - 16s 281ms/step - loss: 0.0139\n",
      "Epoch 3/30\n",
      "57/57 [==============================] - 17s 291ms/step - loss: 0.0043\n",
      "Epoch 4/30\n",
      "57/57 [==============================] - 17s 291ms/step - loss: 6.3267e-04\n",
      "Epoch 5/30\n",
      "57/57 [==============================] - 17s 296ms/step - loss: 5.4805e-04\n",
      "Epoch 6/30\n",
      "57/57 [==============================] - 17s 297ms/step - loss: 4.5711e-04\n",
      "Epoch 7/30\n",
      "57/57 [==============================] - 16s 289ms/step - loss: 3.7174e-04\n",
      "Epoch 8/30\n",
      "57/57 [==============================] - 17s 293ms/step - loss: 3.2189e-04\n",
      "Epoch 9/30\n",
      "57/57 [==============================] - 17s 296ms/step - loss: 3.2154e-04\n",
      "Epoch 10/30\n",
      "57/57 [==============================] - 17s 300ms/step - loss: 2.3920e-04\n",
      "Epoch 11/30\n",
      "57/57 [==============================] - 16s 280ms/step - loss: 2.5618e-04\n",
      "Epoch 12/30\n",
      "57/57 [==============================] - 16s 288ms/step - loss: 2.1860e-04\n",
      "Epoch 13/30\n",
      "57/57 [==============================] - 18s 312ms/step - loss: 2.3038e-04\n",
      "Epoch 14/30\n",
      "57/57 [==============================] - 17s 290ms/step - loss: 2.3776e-04\n",
      "Epoch 15/30\n",
      "57/57 [==============================] - 17s 291ms/step - loss: 1.5223e-04\n",
      "Epoch 16/30\n",
      "57/57 [==============================] - 20s 349ms/step - loss: 2.1685e-04\n",
      "Epoch 17/30\n",
      "57/57 [==============================] - 20s 350ms/step - loss: 1.4978e-04\n",
      "Epoch 18/30\n",
      "57/57 [==============================] - 18s 316ms/step - loss: 1.5348e-04\n",
      "Epoch 19/30\n",
      "57/57 [==============================] - 18s 319ms/step - loss: 1.3437e-04\n",
      "Epoch 20/30\n",
      "57/57 [==============================] - 17s 305ms/step - loss: 1.1600e-04\n",
      "Epoch 21/30\n",
      "57/57 [==============================] - 18s 313ms/step - loss: 1.2235e-04\n",
      "Epoch 22/30\n",
      "57/57 [==============================] - 20s 359ms/step - loss: 1.7722e-04\n",
      "Epoch 23/30\n",
      "57/57 [==============================] - 18s 308ms/step - loss: 1.9289e-04\n",
      "Epoch 24/30\n",
      "57/57 [==============================] - 16s 277ms/step - loss: 6.6555e-05\n",
      "Epoch 25/30\n",
      "57/57 [==============================] - 16s 278ms/step - loss: 1.2205e-04\n",
      "Epoch 26/30\n",
      "57/57 [==============================] - 16s 275ms/step - loss: 1.2329e-04\n",
      "Epoch 27/30\n",
      "57/57 [==============================] - 16s 276ms/step - loss: 6.5103e-05\n",
      "Epoch 28/30\n",
      "57/57 [==============================] - 16s 279ms/step - loss: 1.6181e-04\n",
      "Epoch 29/30\n",
      "57/57 [==============================] - 16s 283ms/step - loss: 8.1445e-05\n",
      "Epoch 30/30\n",
      "57/57 [==============================] - 16s 286ms/step - loss: 2.8672e-04\n"
     ]
    }
   ],
   "source": [
    "history = model.fit(np.expand_dims(dataset[:900],axis = 2),np.expand_dims(dataset[:900],axis = 2),batch_size = 16,epochs = 30)"
   ]
  },
  {
   "cell_type": "code",
   "execution_count": 358,
   "id": "b7a63cf5",
   "metadata": {},
   "outputs": [],
   "source": [
    "predicted = model.predict(np.expand_dims(dataset[:100],axis = 2))"
   ]
  },
  {
   "cell_type": "code",
   "execution_count": 359,
   "id": "8c257a42",
   "metadata": {},
   "outputs": [
    {
     "data": {
      "text/plain": [
       "array([1.47829002e-03, 1.10215949e-02, 3.39882343e+01])"
      ]
     },
     "execution_count": 359,
     "metadata": {},
     "output_type": "execute_result"
    }
   ],
   "source": [
    "np.array([get_metrics(dataset[i],predicted[i].flatten()) for i in range(100)]).mean(axis = 0)"
   ]
  },
  {
   "cell_type": "markdown",
   "id": "4232af99",
   "metadata": {},
   "source": [
    "Quantization"
   ]
  },
  {
   "cell_type": "code",
   "execution_count": 360,
   "id": "e922e387",
   "metadata": {},
   "outputs": [],
   "source": [
    "from keras.models import Model\n",
    "\n",
    "encoder = Model(inputs=model.inputs, outputs=model.layers[-7].output)\n",
    "decoder = Model(inputs=model.layers[-7].output, outputs=model.output)"
   ]
  },
  {
   "cell_type": "code",
   "execution_count": 361,
   "id": "3861dbf1",
   "metadata": {},
   "outputs": [],
   "source": [
    "def get_cr_and_metrics(dataset, encoder, decoder, quantization_level = 0.1):\n",
    "    \n",
    "    encoded_dataset = encoder.predict(np.expand_dims(dataset,axis = 2))\n",
    "    \n",
    "    total_length = encoded_dataset.shape[1] * int(np.log(1 / quantization_level) / np.log(2) + 1)\n",
    "    \n",
    "    quantized_encoded_dataset = (encoded_dataset // quantization_level)*quantization_level\n",
    "    \n",
    "    reconstructed_dataset = decoder.predict(quantized_encoded_dataset)\n",
    "        \n",
    "    return 4001*64/total_length, np.array([get_metrics(dataset[i],reconstructed_dataset[i].flatten()) for i in range(len(dataset))]).mean(axis = 0)"
   ]
  },
  {
   "cell_type": "code",
   "execution_count": 379,
   "id": "468162fe",
   "metadata": {},
   "outputs": [
    {
     "data": {
      "text/plain": [
       "(40.01, array([1.69952930e-04, 6.66217692e-03, 3.78680591e+01]))"
      ]
     },
     "execution_count": 379,
     "metadata": {},
     "output_type": "execute_result"
    }
   ],
   "source": [
    "get_cr_and_metrics(dataset[900:1000], encoder, decoder, 0.005)"
   ]
  },
  {
   "cell_type": "markdown",
   "id": "90202b06",
   "metadata": {},
   "source": [
    "CR 30:1"
   ]
  },
  {
   "cell_type": "code",
   "execution_count": 380,
   "id": "a533eace",
   "metadata": {},
   "outputs": [],
   "source": [
    "model = keras.Sequential([\n",
    "    #encoding\n",
    "    keras.layers.Conv1D(8, 3, activation='elu', padding=\"same\", input_shape=[3990,1]),\n",
    "    keras.layers.MaxPooling1D(pool_size=3),\n",
    "    keras.layers.Conv1D(16, 3, activation='elu', padding=\"same\"),\n",
    "    keras.layers.MaxPooling1D(pool_size=5),\n",
    "    keras.layers.Conv1D(32, 3, activation='elu', padding=\"same\"),\n",
    "    keras.layers.MaxPooling1D(pool_size=2),\n",
    "    keras.layers.Conv1D(64, 3, activation='elu', padding=\"same\"),\n",
    "    keras.layers.Conv1D(128, 3, activation='elu', padding=\"same\"),\n",
    "    #encoded\n",
    "    keras.layers.Conv1D(1, 3, activation='sigmoid', padding=\"same\"),\n",
    "    #decoding\n",
    "    keras.layers.Conv1DTranspose(128, 3, activation='elu', padding=\"same\"),\n",
    "    keras.layers.Conv1DTranspose(64, 3, activation='elu', padding=\"same\"),\n",
    "    keras.layers.UpSampling1D(size=2),\n",
    "    keras.layers.Conv1DTranspose(32, 3, activation='elu', padding=\"same\"),\n",
    "    keras.layers.UpSampling1D(size=5),\n",
    "    keras.layers.Conv1DTranspose(16, 3, activation='elu', padding=\"same\"),\n",
    "    keras.layers.UpSampling1D(size=3),\n",
    "    keras.layers.Conv1DTranspose(8, 3, activation='elu', padding=\"same\"),\n",
    "    keras.layers.Conv1DTranspose(1, 3, padding=\"same\"),\n",
    "  ])"
   ]
  },
  {
   "cell_type": "code",
   "execution_count": 381,
   "id": "f419ad52",
   "metadata": {},
   "outputs": [],
   "source": [
    "optimizer = tf.keras.optimizers.Adam(0.001)\n",
    "model.compile(loss='mean_squared_error',optimizer=optimizer)"
   ]
  },
  {
   "cell_type": "code",
   "execution_count": 382,
   "id": "190d61ad",
   "metadata": {
    "scrolled": true
   },
   "outputs": [
    {
     "name": "stdout",
     "output_type": "stream",
     "text": [
      "Epoch 1/30\n",
      "57/57 [==============================] - 9s 162ms/step - loss: 0.0272\n",
      "Epoch 2/30\n",
      "57/57 [==============================] - 9s 159ms/step - loss: 0.0155\n",
      "Epoch 3/30\n",
      "57/57 [==============================] - 9s 161ms/step - loss: 0.0137\n",
      "Epoch 4/30\n",
      "57/57 [==============================] - 9s 163ms/step - loss: 0.0071\n",
      "Epoch 5/30\n",
      "57/57 [==============================] - 10s 167ms/step - loss: 0.0055\n",
      "Epoch 6/30\n",
      "57/57 [==============================] - 9s 160ms/step - loss: 0.0053\n",
      "Epoch 7/30\n",
      "57/57 [==============================] - 9s 159ms/step - loss: 0.0052\n",
      "Epoch 8/30\n",
      "57/57 [==============================] - 9s 159ms/step - loss: 0.0051\n",
      "Epoch 9/30\n",
      "57/57 [==============================] - 9s 159ms/step - loss: 0.0051\n",
      "Epoch 10/30\n",
      "57/57 [==============================] - 9s 156ms/step - loss: 0.0051\n",
      "Epoch 11/30\n",
      "57/57 [==============================] - 9s 162ms/step - loss: 0.0050\n",
      "Epoch 12/30\n",
      "57/57 [==============================] - 9s 163ms/step - loss: 0.0050\n",
      "Epoch 13/30\n",
      "57/57 [==============================] - 9s 161ms/step - loss: 0.0050\n",
      "Epoch 14/30\n",
      "57/57 [==============================] - 9s 160ms/step - loss: 0.0050\n",
      "Epoch 15/30\n",
      "57/57 [==============================] - 9s 160ms/step - loss: 0.0050\n",
      "Epoch 16/30\n",
      "57/57 [==============================] - 9s 159ms/step - loss: 0.0050\n",
      "Epoch 17/30\n",
      "57/57 [==============================] - 9s 159ms/step - loss: 0.0050\n",
      "Epoch 18/30\n",
      "57/57 [==============================] - 9s 163ms/step - loss: 0.0050\n",
      "Epoch 19/30\n",
      "57/57 [==============================] - 9s 158ms/step - loss: 0.0050\n",
      "Epoch 20/30\n",
      "57/57 [==============================] - 9s 160ms/step - loss: 0.0050\n",
      "Epoch 21/30\n",
      "57/57 [==============================] - 9s 160ms/step - loss: 0.0050\n",
      "Epoch 22/30\n",
      "57/57 [==============================] - 9s 160ms/step - loss: 0.0050\n",
      "Epoch 23/30\n",
      "57/57 [==============================] - 9s 161ms/step - loss: 0.0049\n",
      "Epoch 24/30\n",
      "57/57 [==============================] - 9s 161ms/step - loss: 0.0049\n",
      "Epoch 25/30\n",
      "57/57 [==============================] - 9s 160ms/step - loss: 0.0049\n",
      "Epoch 26/30\n",
      "57/57 [==============================] - 9s 159ms/step - loss: 0.0050\n",
      "Epoch 27/30\n",
      "57/57 [==============================] - 9s 160ms/step - loss: 0.0051\n",
      "Epoch 28/30\n",
      "57/57 [==============================] - 9s 160ms/step - loss: 0.0049\n",
      "Epoch 29/30\n",
      "57/57 [==============================] - 9s 160ms/step - loss: 0.0049\n",
      "Epoch 30/30\n",
      "57/57 [==============================] - 9s 160ms/step - loss: 0.0049\n"
     ]
    }
   ],
   "source": [
    "history = model.fit(np.expand_dims(dataset[:900,:3990],axis = 2),np.expand_dims(dataset[:900,:3990],axis = 2),batch_size = 16,epochs = 30)"
   ]
  },
  {
   "cell_type": "code",
   "execution_count": 383,
   "id": "77942978",
   "metadata": {},
   "outputs": [],
   "source": [
    "predicted = model.predict(np.expand_dims(dataset[:100,:3990],axis = 2))"
   ]
  },
  {
   "cell_type": "code",
   "execution_count": 384,
   "id": "3657e48f",
   "metadata": {},
   "outputs": [
    {
     "data": {
      "text/plain": [
       "array([ 0.01917838,  0.06405408, 19.02099607])"
      ]
     },
     "execution_count": 384,
     "metadata": {},
     "output_type": "execute_result"
    }
   ],
   "source": [
    "np.array([get_metrics(dataset[i,:3990],predicted[i].flatten()) for i in range(100)]).mean(axis = 0)"
   ]
  },
  {
   "cell_type": "markdown",
   "id": "1cb287fb",
   "metadata": {},
   "source": [
    "Quantization"
   ]
  },
  {
   "cell_type": "code",
   "execution_count": 385,
   "id": "f288a27e",
   "metadata": {},
   "outputs": [],
   "source": [
    "from keras.models import Model\n",
    "\n",
    "encoder = Model(inputs=model.inputs, outputs=model.layers[-10].output)\n",
    "decoder = Model(inputs=model.layers[-10].output, outputs=model.output)"
   ]
  },
  {
   "cell_type": "code",
   "execution_count": 387,
   "id": "0b41d7e8",
   "metadata": {},
   "outputs": [
    {
     "data": {
      "text/plain": [
       "(481.3233082706767, array([ 0.05925832,  0.11822906, 12.9044286 ]))"
      ]
     },
     "execution_count": 387,
     "metadata": {},
     "output_type": "execute_result"
    }
   ],
   "source": [
    "get_cr_and_metrics(dataset[900:1000,:3990], encoder, decoder, 0.1)"
   ]
  },
  {
   "cell_type": "code",
   "execution_count": 388,
   "id": "c8605d00",
   "metadata": {},
   "outputs": [
    {
     "data": {
      "text/plain": [
       "(385.05864661654135, array([ 0.02404568,  0.07705442, 16.56134543]))"
      ]
     },
     "execution_count": 388,
     "metadata": {},
     "output_type": "execute_result"
    }
   ],
   "source": [
    "get_cr_and_metrics(dataset[900:1000,:3990], encoder, decoder, 0.05)"
   ]
  },
  {
   "cell_type": "code",
   "execution_count": 389,
   "id": "0cc38e9e",
   "metadata": {},
   "outputs": [
    {
     "data": {
      "text/plain": [
       "(275.0418904403867, array([1.35288386e-02, 5.71208357e-02, 1.93245547e+01]))"
      ]
     },
     "execution_count": 389,
     "metadata": {},
     "output_type": "execute_result"
    }
   ],
   "source": [
    "get_cr_and_metrics(dataset[900:1000,:3990], encoder, decoder, 0.01)"
   ]
  },
  {
   "cell_type": "code",
   "execution_count": 390,
   "id": "073300df",
   "metadata": {},
   "outputs": [
    {
     "data": {
      "text/plain": [
       "(240.66165413533835, array([1.32132715e-02, 5.63926888e-02, 1.94523742e+01]))"
      ]
     },
     "execution_count": 390,
     "metadata": {},
     "output_type": "execute_result"
    }
   ],
   "source": [
    "get_cr_and_metrics(dataset[900:1000,:3990], encoder, decoder, 0.005)"
   ]
  },
  {
   "cell_type": "code",
   "execution_count": 391,
   "id": "a326f13a",
   "metadata": {},
   "outputs": [
    {
     "data": {
      "text/plain": [
       "(192.52932330827068, array([1.30952033e-02, 5.61340801e-02, 1.94983310e+01]))"
      ]
     },
     "execution_count": 391,
     "metadata": {},
     "output_type": "execute_result"
    }
   ],
   "source": [
    "get_cr_and_metrics(dataset[900:1000,:3990], encoder, decoder, 0.001)"
   ]
  },
  {
   "cell_type": "code",
   "execution_count": 392,
   "id": "9aa523f2",
   "metadata": {},
   "outputs": [
    {
     "data": {
      "text/plain": [
       "(113.25254312251217, array([1.30842778e-02, 5.61142643e-02, 1.95020360e+01]))"
      ]
     },
     "execution_count": 392,
     "metadata": {},
     "output_type": "execute_result"
    }
   ],
   "source": [
    "get_cr_and_metrics(dataset[900:1000,:3990], encoder, decoder, 0.00001)"
   ]
  },
  {
   "cell_type": "code",
   "execution_count": null,
   "id": "89be21e0",
   "metadata": {},
   "outputs": [],
   "source": []
  }
 ],
 "metadata": {
  "kernelspec": {
   "display_name": "Python 3",
   "language": "python",
   "name": "python3"
  },
  "language_info": {
   "codemirror_mode": {
    "name": "ipython",
    "version": 3
   },
   "file_extension": ".py",
   "mimetype": "text/x-python",
   "name": "python",
   "nbconvert_exporter": "python",
   "pygments_lexer": "ipython3",
   "version": "3.8.8"
  }
 },
 "nbformat": 4,
 "nbformat_minor": 5
}
