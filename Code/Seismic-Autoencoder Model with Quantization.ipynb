{
 "cells": [
  {
   "cell_type": "code",
   "execution_count": 5,
   "id": "af50c648",
   "metadata": {},
   "outputs": [],
   "source": [
    "import scipy.io\n",
    "import numpy as np\n",
    "import matplotlib.pyplot as plt\n",
    "from tensorflow import keras\n",
    "import tensorflow as tf\n",
    "import os\n",
    "from segpy.reader import create_reader"
   ]
  },
  {
   "cell_type": "code",
   "execution_count": 2,
   "id": "e9dd4bb5",
   "metadata": {},
   "outputs": [],
   "source": [
    "tf.config.run_functions_eagerly(True)"
   ]
  },
  {
   "cell_type": "code",
   "execution_count": 3,
   "id": "438a5700",
   "metadata": {},
   "outputs": [],
   "source": [
    "mat = scipy.io.loadmat(r'C:\\Users\\user\\Desktop\\seismic\\Book_Seismic_Data')"
   ]
  },
  {
   "cell_type": "code",
   "execution_count": 6,
   "id": "679c20e5",
   "metadata": {},
   "outputs": [],
   "source": [
    "dataset = []\n",
    "\n",
    "directory = r'C:\\Users\\user\\Desktop\\2D\\Correlated_Shot_Gathers'\n",
    "\n",
    "for file_name in os.listdir(directory):\n",
    "    \n",
    "    if file_name != \".segpy\":\n",
    "        \n",
    "        with open(directory + \"\\\\\" + file_name, 'rb') as segy_in_file:\n",
    "\n",
    "            seg_y_dataset = create_reader(segy_in_file, endian='<')\n",
    "\n",
    "            for i in seg_y_dataset.trace_indexes():\n",
    "                dataset.append(seg_y_dataset.trace_samples(i)[:-1])\n",
    "            \n",
    "dataset = np.array(dataset)"
   ]
  },
  {
   "cell_type": "code",
   "execution_count": 7,
   "id": "d73b8c42",
   "metadata": {},
   "outputs": [],
   "source": [
    "max_dataset = np.max(dataset, axis = 1)\n",
    "min_dataset = np.min(dataset, axis = 1)"
   ]
  },
  {
   "cell_type": "code",
   "execution_count": 8,
   "id": "8962bf1c",
   "metadata": {},
   "outputs": [],
   "source": [
    "dataset = (dataset - np.repeat(np.expand_dims(min_dataset,axis = 1), 4000, axis = 1))/(np.repeat(np.expand_dims(max_dataset,axis = 1), 4000, axis = 1) - np.repeat(np.expand_dims(min_dataset,axis = 1), 4000, axis = 1))"
   ]
  },
  {
   "cell_type": "code",
   "execution_count": 9,
   "id": "5c21eba8",
   "metadata": {},
   "outputs": [],
   "source": [
    "def get_metrics(x,x_pred):\n",
    "    nmse = np.sum(np.square(x - x_pred))/np.sum(np.square(x))\n",
    "    nrmse = np.sqrt(np.mean(np.square(x - x_pred)))/(np.amax(x) - np.amin(x))\n",
    "    snr = -10*np.log10(nmse)\n",
    "    return nmse, nrmse, snr"
   ]
  },
  {
   "cell_type": "markdown",
   "id": "6a9516fe",
   "metadata": {},
   "source": [
    "CR 100:1"
   ]
  },
  {
   "cell_type": "code",
   "execution_count": 19,
   "id": "22bbea8b",
   "metadata": {},
   "outputs": [],
   "source": [
    "model = keras.Sequential([\n",
    "    #encoding\n",
    "    keras.layers.Conv1D(8, 3, activation='elu', padding=\"same\", input_shape=[4000,1]),\n",
    "    keras.layers.MaxPooling1D(pool_size=5),\n",
    "    keras.layers.Conv1D(16, 3, activation='elu', padding=\"same\"),\n",
    "    keras.layers.MaxPooling1D(pool_size=2),\n",
    "    keras.layers.Conv1D(32, 3, activation='elu', padding=\"same\"),\n",
    "    keras.layers.MaxPooling1D(pool_size=5),\n",
    "    keras.layers.Conv1D(64, 3, activation='elu', padding=\"same\"),\n",
    "    keras.layers.MaxPooling1D(pool_size=2),\n",
    "    keras.layers.Conv1D(128, 3, activation='elu', padding=\"same\"),\n",
    "    #encoded\n",
    "    keras.layers.Conv1D(1, 3, activation='elu', padding=\"same\"),\n",
    "    #decoding\n",
    "    keras.layers.Conv1DTranspose(128, 3, activation='elu', padding=\"same\"),\n",
    "    keras.layers.UpSampling1D(size=2),\n",
    "    keras.layers.Conv1DTranspose(64, 3, activation='elu', padding=\"same\"),\n",
    "    keras.layers.UpSampling1D(size=5),\n",
    "    keras.layers.Conv1DTranspose(32, 3, activation='elu', padding=\"same\"),\n",
    "    keras.layers.UpSampling1D(size=2),\n",
    "    keras.layers.Conv1DTranspose(16, 3, activation='elu', padding=\"same\"),\n",
    "    keras.layers.UpSampling1D(size=5),\n",
    "    keras.layers.Conv1DTranspose(8, 3, activation='elu', padding=\"same\"),\n",
    "    keras.layers.Conv1DTranspose(1, 3, padding=\"same\"),\n",
    "  ])"
   ]
  },
  {
   "cell_type": "code",
   "execution_count": 20,
   "id": "f807db37",
   "metadata": {},
   "outputs": [],
   "source": [
    "optimizer = tf.keras.optimizers.Adam(0.001)\n",
    "model.compile(loss='mean_squared_error',optimizer=optimizer)"
   ]
  },
  {
   "cell_type": "code",
   "execution_count": 21,
   "id": "0d6c3721",
   "metadata": {
    "scrolled": true
   },
   "outputs": [
    {
     "name": "stdout",
     "output_type": "stream",
     "text": [
      "Epoch 1/30\n",
      "90/90 [==============================] - 11s 122ms/step - loss: 0.0178\n",
      "Epoch 2/30\n",
      "90/90 [==============================] - 11s 121ms/step - loss: 0.0100\n",
      "Epoch 3/30\n",
      "90/90 [==============================] - 11s 125ms/step - loss: 0.0096\n",
      "Epoch 4/30\n",
      "90/90 [==============================] - 12s 128ms/step - loss: 0.0093\n",
      "Epoch 5/30\n",
      "90/90 [==============================] - 11s 122ms/step - loss: 0.0090\n",
      "Epoch 6/30\n",
      "90/90 [==============================] - 11s 123ms/step - loss: 0.0089\n",
      "Epoch 7/30\n",
      "90/90 [==============================] - 11s 122ms/step - loss: 0.0087\n",
      "Epoch 8/30\n",
      "90/90 [==============================] - 11s 121ms/step - loss: 0.0087\n",
      "Epoch 9/30\n",
      "90/90 [==============================] - 11s 122ms/step - loss: 0.0087\n",
      "Epoch 10/30\n",
      "90/90 [==============================] - 11s 118ms/step - loss: 0.0087\n",
      "Epoch 11/30\n",
      "90/90 [==============================] - 11s 120ms/step - loss: 0.0086\n",
      "Epoch 12/30\n",
      "90/90 [==============================] - 11s 120ms/step - loss: 0.0086\n",
      "Epoch 13/30\n",
      "90/90 [==============================] - 11s 120ms/step - loss: 0.0085\n",
      "Epoch 14/30\n",
      "90/90 [==============================] - 11s 120ms/step - loss: 0.0085\n",
      "Epoch 15/30\n",
      "90/90 [==============================] - 11s 126ms/step - loss: 0.0085\n",
      "Epoch 16/30\n",
      "90/90 [==============================] - 11s 124ms/step - loss: 0.0084\n",
      "Epoch 17/30\n",
      "90/90 [==============================] - 11s 124ms/step - loss: 0.0084\n",
      "Epoch 18/30\n",
      "90/90 [==============================] - 11s 121ms/step - loss: 0.0085\n",
      "Epoch 19/30\n",
      "90/90 [==============================] - 11s 121ms/step - loss: 0.0084\n",
      "Epoch 20/30\n",
      "90/90 [==============================] - 11s 124ms/step - loss: 0.0083\n",
      "Epoch 21/30\n",
      "90/90 [==============================] - 11s 121ms/step - loss: 0.0082\n",
      "Epoch 22/30\n",
      "90/90 [==============================] - 11s 120ms/step - loss: 0.0081\n",
      "Epoch 23/30\n",
      "90/90 [==============================] - 11s 122ms/step - loss: 0.0081\n",
      "Epoch 24/30\n",
      "90/90 [==============================] - 11s 121ms/step - loss: 0.0081\n",
      "Epoch 25/30\n",
      "90/90 [==============================] - 11s 119ms/step - loss: 0.0080\n",
      "Epoch 26/30\n",
      "90/90 [==============================] - 11s 120ms/step - loss: 0.0080\n",
      "Epoch 27/30\n",
      "90/90 [==============================] - 11s 119ms/step - loss: 0.0081\n",
      "Epoch 28/30\n",
      "90/90 [==============================] - 11s 118ms/step - loss: 0.0083\n",
      "Epoch 29/30\n",
      "90/90 [==============================] - 11s 119ms/step - loss: 0.0082\n",
      "Epoch 30/30\n",
      "90/90 [==============================] - 11s 119ms/step - loss: 0.0079\n"
     ]
    }
   ],
   "source": [
    "history = model.fit(np.expand_dims(dataset[:900],axis = 2),np.expand_dims(dataset[:900],axis = 2),batch_size = 10,epochs = 30)"
   ]
  },
  {
   "cell_type": "code",
   "execution_count": 22,
   "id": "450f38c3",
   "metadata": {},
   "outputs": [],
   "source": [
    "predicted = model.predict(np.expand_dims(dataset[900:1000],axis = 2))"
   ]
  },
  {
   "cell_type": "code",
   "execution_count": 24,
   "id": "14f373bc",
   "metadata": {},
   "outputs": [
    {
     "data": {
      "text/plain": [
       "array([ 0.02153348,  0.0707209 , 17.62681653])"
      ]
     },
     "execution_count": 24,
     "metadata": {},
     "output_type": "execute_result"
    }
   ],
   "source": [
    "np.array([get_metrics(dataset[900 + i],predicted[i].flatten()) for i in range(100)]).mean(axis = 0)"
   ]
  },
  {
   "cell_type": "markdown",
   "id": "20420e21",
   "metadata": {},
   "source": [
    "CR 50:1"
   ]
  },
  {
   "cell_type": "code",
   "execution_count": 25,
   "id": "7f0d8933",
   "metadata": {},
   "outputs": [],
   "source": [
    "model = keras.Sequential([\n",
    "    #encoding\n",
    "    keras.layers.Conv1D(8, 3, activation='elu', padding=\"same\", input_shape=[4000,1]),\n",
    "    keras.layers.MaxPooling1D(pool_size=5),\n",
    "    keras.layers.Conv1D(16, 3, activation='elu', padding=\"same\"),\n",
    "    keras.layers.MaxPooling1D(pool_size=2),\n",
    "    keras.layers.Conv1D(32, 3, activation='elu', padding=\"same\"),\n",
    "    keras.layers.Conv1D(64, 3, activation='elu', padding=\"same\"),\n",
    "    keras.layers.MaxPooling1D(pool_size=5),\n",
    "    keras.layers.Conv1D(128, 3, activation='elu', padding=\"same\"),\n",
    "    #encoded\n",
    "    keras.layers.Conv1D(1, 3, activation='elu', padding=\"same\"),\n",
    "    #decoding\n",
    "    keras.layers.Conv1DTranspose(128, 3, activation='elu', padding=\"same\"),\n",
    "    keras.layers.UpSampling1D(size=5),\n",
    "    keras.layers.Conv1DTranspose(64, 3, activation='elu', padding=\"same\"),\n",
    "    keras.layers.Conv1DTranspose(32, 3, activation='elu', padding=\"same\"),\n",
    "    keras.layers.UpSampling1D(size=2),\n",
    "    keras.layers.Conv1DTranspose(16, 3, activation='elu', padding=\"same\"),\n",
    "    keras.layers.UpSampling1D(size=5),\n",
    "    keras.layers.Conv1DTranspose(8, 3, activation='elu', padding=\"same\"),\n",
    "    keras.layers.Conv1DTranspose(1, 3, padding=\"same\"),\n",
    "  ])"
   ]
  },
  {
   "cell_type": "code",
   "execution_count": 26,
   "id": "ee565d64",
   "metadata": {},
   "outputs": [],
   "source": [
    "optimizer = tf.keras.optimizers.Adam(0.001)\n",
    "model.compile(loss='mean_squared_error',optimizer=optimizer)"
   ]
  },
  {
   "cell_type": "code",
   "execution_count": 27,
   "id": "f1604e81",
   "metadata": {
    "scrolled": true
   },
   "outputs": [
    {
     "name": "stdout",
     "output_type": "stream",
     "text": [
      "Epoch 1/30\n",
      "90/90 [==============================] - 12s 128ms/step - loss: 0.0198\n",
      "Epoch 2/30\n",
      "90/90 [==============================] - 12s 128ms/step - loss: 0.0104\n",
      "Epoch 3/30\n",
      "90/90 [==============================] - 12s 129ms/step - loss: 0.0086\n",
      "Epoch 4/30\n",
      "90/90 [==============================] - 12s 131ms/step - loss: 0.0080\n",
      "Epoch 5/30\n",
      "90/90 [==============================] - 12s 129ms/step - loss: 0.0077\n",
      "Epoch 6/30\n",
      "90/90 [==============================] - 12s 131ms/step - loss: 0.0076\n",
      "Epoch 7/30\n",
      "90/90 [==============================] - 12s 130ms/step - loss: 0.0074\n",
      "Epoch 8/30\n",
      "90/90 [==============================] - 12s 129ms/step - loss: 0.0073\n",
      "Epoch 9/30\n",
      "90/90 [==============================] - 12s 129ms/step - loss: 0.0071\n",
      "Epoch 10/30\n",
      "90/90 [==============================] - 11s 128ms/step - loss: 0.0070\n",
      "Epoch 11/30\n",
      "90/90 [==============================] - 12s 132ms/step - loss: 0.0070\n",
      "Epoch 12/30\n",
      "90/90 [==============================] - 12s 128ms/step - loss: 0.0069\n",
      "Epoch 13/30\n",
      "90/90 [==============================] - 11s 127ms/step - loss: 0.0068\n",
      "Epoch 14/30\n",
      "90/90 [==============================] - 11s 127ms/step - loss: 0.0068\n",
      "Epoch 15/30\n",
      "90/90 [==============================] - 11s 127ms/step - loss: 0.0066\n",
      "Epoch 16/30\n",
      "90/90 [==============================] - 12s 128ms/step - loss: 0.0067\n",
      "Epoch 17/30\n",
      "90/90 [==============================] - 11s 126ms/step - loss: 0.0066\n",
      "Epoch 18/30\n",
      "90/90 [==============================] - 11s 128ms/step - loss: 0.0065\n",
      "Epoch 19/30\n",
      "90/90 [==============================] - 11s 127ms/step - loss: 0.0065\n",
      "Epoch 20/30\n",
      "90/90 [==============================] - 12s 132ms/step - loss: 0.0066\n",
      "Epoch 21/30\n",
      "90/90 [==============================] - 12s 128ms/step - loss: 0.0065\n",
      "Epoch 22/30\n",
      "90/90 [==============================] - 11s 127ms/step - loss: 0.0064\n",
      "Epoch 23/30\n",
      "90/90 [==============================] - 11s 127ms/step - loss: 0.0064\n",
      "Epoch 24/30\n",
      "90/90 [==============================] - 12s 130ms/step - loss: 0.0065\n",
      "Epoch 25/30\n",
      "90/90 [==============================] - 11s 126ms/step - loss: 0.0065\n",
      "Epoch 26/30\n",
      "90/90 [==============================] - 12s 131ms/step - loss: 0.0063\n",
      "Epoch 27/30\n",
      "90/90 [==============================] - 12s 134ms/step - loss: 0.0063\n",
      "Epoch 28/30\n",
      "90/90 [==============================] - 12s 129ms/step - loss: 0.0065\n",
      "Epoch 29/30\n",
      "90/90 [==============================] - 11s 127ms/step - loss: 0.0063\n",
      "Epoch 30/30\n",
      "90/90 [==============================] - 12s 131ms/step - loss: 0.0063\n"
     ]
    }
   ],
   "source": [
    "history = model.fit(np.expand_dims(dataset[:900],axis = 2),np.expand_dims(dataset[:900],axis = 2),batch_size = 10,epochs = 30)"
   ]
  },
  {
   "cell_type": "code",
   "execution_count": 28,
   "id": "e5664881",
   "metadata": {},
   "outputs": [],
   "source": [
    "predicted = model.predict(np.expand_dims(dataset[900:1000],axis = 2))"
   ]
  },
  {
   "cell_type": "code",
   "execution_count": 30,
   "id": "c29868a8",
   "metadata": {},
   "outputs": [
    {
     "data": {
      "text/plain": [
       "array([1.65327540e-02, 6.29793178e-02, 1.85012557e+01])"
      ]
     },
     "execution_count": 30,
     "metadata": {},
     "output_type": "execute_result"
    }
   ],
   "source": [
    "np.array([get_metrics(dataset[900 + i],predicted[i].flatten()) for i in range(100)]).mean(axis = 0)"
   ]
  },
  {
   "cell_type": "markdown",
   "id": "13b47474",
   "metadata": {},
   "source": [
    "CR 30:1"
   ]
  },
  {
   "cell_type": "code",
   "execution_count": 31,
   "id": "0e046f7f",
   "metadata": {},
   "outputs": [],
   "source": [
    "model = keras.Sequential([\n",
    "    #encoding\n",
    "    keras.layers.Conv1D(8, 3, activation='elu', padding=\"same\", input_shape=[3990,1]),\n",
    "    keras.layers.MaxPooling1D(pool_size=3),\n",
    "    keras.layers.Conv1D(16, 3, activation='elu', padding=\"same\"),\n",
    "    keras.layers.MaxPooling1D(pool_size=5),\n",
    "    keras.layers.Conv1D(32, 3, activation='elu', padding=\"same\"),\n",
    "    keras.layers.MaxPooling1D(pool_size=2),\n",
    "    keras.layers.Conv1D(64, 3, activation='elu', padding=\"same\"),\n",
    "    keras.layers.Conv1D(128, 3, activation='elu', padding=\"same\"),\n",
    "    #encoded\n",
    "    keras.layers.Conv1D(1, 3, activation='elu', padding=\"same\"),\n",
    "    #decoding\n",
    "    keras.layers.Conv1DTranspose(128, 3, activation='elu', padding=\"same\"),\n",
    "    keras.layers.Conv1DTranspose(64, 3, activation='elu', padding=\"same\"),\n",
    "    keras.layers.UpSampling1D(size=2),\n",
    "    keras.layers.Conv1DTranspose(32, 3, activation='elu', padding=\"same\"),\n",
    "    keras.layers.UpSampling1D(size=5),\n",
    "    keras.layers.Conv1DTranspose(16, 3, activation='elu', padding=\"same\"),\n",
    "    keras.layers.UpSampling1D(size=3),\n",
    "    keras.layers.Conv1DTranspose(8, 3, activation='elu', padding=\"same\"),\n",
    "    keras.layers.Conv1DTranspose(1, 3, padding=\"same\"),\n",
    "  ])"
   ]
  },
  {
   "cell_type": "code",
   "execution_count": 32,
   "id": "dd556c99",
   "metadata": {},
   "outputs": [],
   "source": [
    "optimizer = tf.keras.optimizers.Adam(0.001)\n",
    "model.compile(loss='mean_squared_error',optimizer=optimizer)"
   ]
  },
  {
   "cell_type": "code",
   "execution_count": 35,
   "id": "ceadd739",
   "metadata": {
    "scrolled": true
   },
   "outputs": [
    {
     "name": "stdout",
     "output_type": "stream",
     "text": [
      "Epoch 1/30\n",
      "90/90 [==============================] - 12s 137ms/step - loss: 0.0262\n",
      "Epoch 2/30\n",
      "90/90 [==============================] - 12s 136ms/step - loss: 0.0058\n",
      "Epoch 3/30\n",
      "90/90 [==============================] - 12s 136ms/step - loss: 0.0053\n",
      "Epoch 4/30\n",
      "90/90 [==============================] - 12s 137ms/step - loss: 0.0051\n",
      "Epoch 5/30\n",
      "90/90 [==============================] - 12s 137ms/step - loss: 0.0050\n",
      "Epoch 6/30\n",
      "90/90 [==============================] - 12s 134ms/step - loss: 0.0050\n",
      "Epoch 7/30\n",
      "90/90 [==============================] - 12s 132ms/step - loss: 0.0050\n",
      "Epoch 8/30\n",
      "90/90 [==============================] - 12s 136ms/step - loss: 0.0050\n",
      "Epoch 9/30\n",
      "90/90 [==============================] - 12s 136ms/step - loss: 0.0050\n",
      "Epoch 10/30\n",
      "90/90 [==============================] - 12s 134ms/step - loss: 0.0050\n",
      "Epoch 11/30\n",
      "90/90 [==============================] - 12s 132ms/step - loss: 0.0050\n",
      "Epoch 12/30\n",
      "90/90 [==============================] - 12s 133ms/step - loss: 0.0050\n",
      "Epoch 13/30\n",
      "90/90 [==============================] - 12s 132ms/step - loss: 0.0049\n",
      "Epoch 14/30\n",
      "90/90 [==============================] - 12s 133ms/step - loss: 0.0049\n",
      "Epoch 15/30\n",
      "90/90 [==============================] - 12s 133ms/step - loss: 0.0049\n",
      "Epoch 16/30\n",
      "90/90 [==============================] - 12s 132ms/step - loss: 0.0049\n",
      "Epoch 17/30\n",
      "90/90 [==============================] - 12s 133ms/step - loss: 0.0049\n",
      "Epoch 18/30\n",
      "90/90 [==============================] - 14s 154ms/step - loss: 0.0050\n",
      "Epoch 19/30\n",
      "90/90 [==============================] - 13s 141ms/step - loss: 0.0050\n",
      "Epoch 20/30\n",
      "90/90 [==============================] - 13s 143ms/step - loss: 0.0049\n",
      "Epoch 21/30\n",
      "90/90 [==============================] - 12s 138ms/step - loss: 0.0049\n",
      "Epoch 22/30\n",
      "90/90 [==============================] - 12s 135ms/step - loss: 0.0049\n",
      "Epoch 23/30\n",
      "90/90 [==============================] - 12s 137ms/step - loss: 0.0049\n",
      "Epoch 24/30\n",
      "90/90 [==============================] - 12s 136ms/step - loss: 0.0050\n",
      "Epoch 25/30\n",
      "90/90 [==============================] - 12s 136ms/step - loss: 0.0050\n",
      "Epoch 26/30\n",
      "90/90 [==============================] - 12s 134ms/step - loss: 0.0051\n",
      "Epoch 27/30\n",
      "90/90 [==============================] - 12s 136ms/step - loss: 0.0050\n",
      "Epoch 28/30\n",
      "90/90 [==============================] - 12s 139ms/step - loss: 0.0049\n",
      "Epoch 29/30\n",
      "90/90 [==============================] - 12s 138ms/step - loss: 0.0049\n",
      "Epoch 30/30\n",
      "90/90 [==============================] - 12s 136ms/step - loss: 0.0049\n"
     ]
    }
   ],
   "source": [
    "history = model.fit(np.expand_dims(dataset[:900,:3990],axis = 2),np.expand_dims(dataset[:900,:3990],axis = 2),batch_size = 10,epochs = 30)"
   ]
  },
  {
   "cell_type": "code",
   "execution_count": 36,
   "id": "b7a63cf5",
   "metadata": {},
   "outputs": [],
   "source": [
    "predicted = model.predict(np.expand_dims(dataset[900:1000,:3990],axis = 2))"
   ]
  },
  {
   "cell_type": "code",
   "execution_count": 37,
   "id": "8c257a42",
   "metadata": {},
   "outputs": [
    {
     "data": {
      "text/plain": [
       "array([1.33474199e-02, 5.66540662e-02, 1.94087879e+01])"
      ]
     },
     "execution_count": 37,
     "metadata": {},
     "output_type": "execute_result"
    }
   ],
   "source": [
    "np.array([get_metrics(dataset[900 + i,:3990],predicted[i].flatten()) for i in range(100)]).mean(axis = 0)"
   ]
  },
  {
   "cell_type": "markdown",
   "id": "a1551331",
   "metadata": {},
   "source": [
    "CR 15:1"
   ]
  },
  {
   "cell_type": "code",
   "execution_count": 38,
   "id": "3c98cce3",
   "metadata": {},
   "outputs": [],
   "source": [
    "model = keras.Sequential([\n",
    "    #encoding\n",
    "    keras.layers.Conv1D(16, 3, activation='elu', padding=\"same\", input_shape=[3990,1]),\n",
    "    keras.layers.MaxPooling1D(pool_size=3),\n",
    "    keras.layers.Conv1D(32, 3, activation='elu', padding=\"same\"),\n",
    "    keras.layers.Conv1D(64, 3, activation='elu', padding=\"same\"),\n",
    "    keras.layers.MaxPooling1D(pool_size=5),\n",
    "    keras.layers.Conv1D(128, 3, activation='elu', padding=\"same\"),\n",
    "    #encoded\n",
    "    keras.layers.Conv1D(1, 3, activation='elu', padding=\"same\"),\n",
    "    #decoding\n",
    "    keras.layers.Conv1DTranspose(128, 3, activation='elu', padding=\"same\"),\n",
    "    keras.layers.UpSampling1D(size=5),\n",
    "    keras.layers.Conv1DTranspose(64, 3, activation='elu', padding=\"same\"),\n",
    "    keras.layers.Conv1DTranspose(32, 3, activation='elu', padding=\"same\"),\n",
    "    keras.layers.UpSampling1D(size=3),\n",
    "    keras.layers.Conv1DTranspose(16, 3, activation='elu', padding=\"same\"),\n",
    "    keras.layers.Conv1DTranspose(1, 3, padding=\"same\"),\n",
    "  ])"
   ]
  },
  {
   "cell_type": "code",
   "execution_count": 39,
   "id": "e0ce12d9",
   "metadata": {},
   "outputs": [],
   "source": [
    "optimizer = tf.keras.optimizers.Adam(0.001)\n",
    "model.compile(loss='mean_squared_error',optimizer=optimizer)"
   ]
  },
  {
   "cell_type": "code",
   "execution_count": 40,
   "id": "ca7b0d8e",
   "metadata": {
    "scrolled": true
   },
   "outputs": [
    {
     "name": "stdout",
     "output_type": "stream",
     "text": [
      "Epoch 1/30\n",
      "90/90 [==============================] - 16s 182ms/step - loss: 0.0181\n",
      "Epoch 2/30\n",
      "90/90 [==============================] - 16s 181ms/step - loss: 0.0021\n",
      "Epoch 3/30\n",
      "90/90 [==============================] - 17s 189ms/step - loss: 0.0017\n",
      "Epoch 4/30\n",
      "90/90 [==============================] - 16s 180ms/step - loss: 0.0015\n",
      "Epoch 5/30\n",
      "90/90 [==============================] - 16s 181ms/step - loss: 0.0016\n",
      "Epoch 6/30\n",
      "90/90 [==============================] - 16s 182ms/step - loss: 0.0015\n",
      "Epoch 7/30\n",
      "90/90 [==============================] - 16s 181ms/step - loss: 0.0013\n",
      "Epoch 8/30\n",
      "90/90 [==============================] - 16s 182ms/step - loss: 0.0013\n",
      "Epoch 9/30\n",
      "90/90 [==============================] - 16s 180ms/step - loss: 0.0012\n",
      "Epoch 10/30\n",
      "90/90 [==============================] - 16s 179ms/step - loss: 0.0012\n",
      "Epoch 11/30\n",
      "90/90 [==============================] - 17s 186ms/step - loss: 0.0013\n",
      "Epoch 12/30\n",
      "90/90 [==============================] - 16s 181ms/step - loss: 0.0012\n",
      "Epoch 13/30\n",
      "90/90 [==============================] - 16s 180ms/step - loss: 0.0012\n",
      "Epoch 14/30\n",
      "90/90 [==============================] - 16s 183ms/step - loss: 0.0012\n",
      "Epoch 15/30\n",
      "90/90 [==============================] - 17s 187ms/step - loss: 0.0012\n",
      "Epoch 16/30\n",
      "90/90 [==============================] - 16s 179ms/step - loss: 0.0012\n",
      "Epoch 17/30\n",
      "90/90 [==============================] - 16s 178ms/step - loss: 0.0012\n",
      "Epoch 18/30\n",
      "90/90 [==============================] - 16s 181ms/step - loss: 0.0012\n",
      "Epoch 19/30\n",
      "90/90 [==============================] - 16s 183ms/step - loss: 0.0012\n",
      "Epoch 20/30\n",
      "90/90 [==============================] - 17s 184ms/step - loss: 0.0012\n",
      "Epoch 21/30\n",
      "90/90 [==============================] - 16s 180ms/step - loss: 0.0012\n",
      "Epoch 22/30\n",
      "90/90 [==============================] - 17s 187ms/step - loss: 0.0012\n",
      "Epoch 23/30\n",
      "90/90 [==============================] - 16s 183ms/step - loss: 0.0012\n",
      "Epoch 24/30\n",
      "90/90 [==============================] - 17s 186ms/step - loss: 0.0014\n",
      "Epoch 25/30\n",
      "90/90 [==============================] - 17s 184ms/step - loss: 0.0012\n",
      "Epoch 26/30\n",
      "90/90 [==============================] - 16s 181ms/step - loss: 0.0011\n",
      "Epoch 27/30\n",
      "90/90 [==============================] - 17s 185ms/step - loss: 0.0011\n",
      "Epoch 28/30\n",
      "90/90 [==============================] - 17s 185ms/step - loss: 0.0011\n",
      "Epoch 29/30\n",
      "90/90 [==============================] - 16s 181ms/step - loss: 0.0013\n",
      "Epoch 30/30\n",
      "90/90 [==============================] - 16s 183ms/step - loss: 0.0011\n"
     ]
    }
   ],
   "source": [
    "history = model.fit(np.expand_dims(dataset[:900,:3990],axis = 2),np.expand_dims(dataset[:900,:3990],axis = 2),batch_size = 10,epochs = 30)"
   ]
  },
  {
   "cell_type": "code",
   "execution_count": 41,
   "id": "d0fae3fa",
   "metadata": {},
   "outputs": [],
   "source": [
    "predicted = model.predict(np.expand_dims(dataset[900:1000,:3990],axis = 2))"
   ]
  },
  {
   "cell_type": "code",
   "execution_count": 42,
   "id": "c6c92011",
   "metadata": {},
   "outputs": [
    {
     "data": {
      "text/plain": [
       "array([3.11523555e-03, 2.78174631e-02, 2.55291593e+01])"
      ]
     },
     "execution_count": 42,
     "metadata": {},
     "output_type": "execute_result"
    }
   ],
   "source": [
    "np.array([get_metrics(dataset[900 + i,:3990],predicted[i].flatten()) for i in range(100)]).mean(axis = 0)"
   ]
  },
  {
   "cell_type": "markdown",
   "id": "07ff0f84",
   "metadata": {},
   "source": [
    "CR 5:1"
   ]
  },
  {
   "cell_type": "code",
   "execution_count": 43,
   "id": "b079a854",
   "metadata": {},
   "outputs": [],
   "source": [
    "model = keras.Sequential([\n",
    "    #encoding\n",
    "    keras.layers.Conv1D(16, 3, activation='elu', padding=\"same\", input_shape=[4000,1]),\n",
    "    keras.layers.Conv1D(32, 3, activation='elu', padding=\"same\"),\n",
    "    keras.layers.MaxPooling1D(pool_size=5),\n",
    "    keras.layers.Conv1D(64, 3, activation='elu', padding=\"same\"),\n",
    "    keras.layers.Conv1D(128, 3, activation='elu', padding=\"same\"),\n",
    "    #encoded\n",
    "    keras.layers.Conv1D(1, 3, activation='elu', padding=\"same\"),\n",
    "    #decoding\n",
    "    keras.layers.Conv1DTranspose(128, 3, activation='elu', padding=\"same\"),\n",
    "    keras.layers.Conv1DTranspose(64, 3, activation='elu', padding=\"same\"),\n",
    "    keras.layers.UpSampling1D(size=5),\n",
    "    keras.layers.Conv1DTranspose(32, 3, activation='elu', padding=\"same\"),\n",
    "    keras.layers.Conv1DTranspose(16, 3, activation='elu', padding=\"same\"),\n",
    "    keras.layers.Conv1DTranspose(1, 3, padding=\"same\"),\n",
    "  ])"
   ]
  },
  {
   "cell_type": "code",
   "execution_count": 44,
   "id": "fc9c2b26",
   "metadata": {},
   "outputs": [],
   "source": [
    "optimizer = tf.keras.optimizers.Adam(0.001)\n",
    "model.compile(loss='mean_squared_error',optimizer=optimizer)"
   ]
  },
  {
   "cell_type": "code",
   "execution_count": 45,
   "id": "e3ac74e1",
   "metadata": {
    "scrolled": true
   },
   "outputs": [
    {
     "name": "stdout",
     "output_type": "stream",
     "text": [
      "Epoch 1/30\n",
      "90/90 [==============================] - 18s 202ms/step - loss: 0.0201\n",
      "Epoch 2/30\n",
      "90/90 [==============================] - 18s 200ms/step - loss: 3.9044e-04\n",
      "Epoch 3/30\n",
      "90/90 [==============================] - 19s 208ms/step - loss: 1.9369e-04\n",
      "Epoch 4/30\n",
      "90/90 [==============================] - 19s 207ms/step - loss: 1.2995e-04\n",
      "Epoch 5/30\n",
      "90/90 [==============================] - 18s 203ms/step - loss: 1.1629e-04\n",
      "Epoch 6/30\n",
      "90/90 [==============================] - 18s 204ms/step - loss: 1.1203e-04\n",
      "Epoch 7/30\n",
      "90/90 [==============================] - 18s 204ms/step - loss: 8.3995e-05\n",
      "Epoch 8/30\n",
      "90/90 [==============================] - 19s 212ms/step - loss: 8.0930e-05\n",
      "Epoch 9/30\n",
      "90/90 [==============================] - 19s 210ms/step - loss: 9.3466e-05\n",
      "Epoch 10/30\n",
      "90/90 [==============================] - 19s 206ms/step - loss: 6.6160e-05\n",
      "Epoch 11/30\n",
      "90/90 [==============================] - 20s 226ms/step - loss: 7.2389e-05\n",
      "Epoch 12/30\n",
      "90/90 [==============================] - 19s 207ms/step - loss: 6.3613e-05\n",
      "Epoch 13/30\n",
      "90/90 [==============================] - 18s 204ms/step - loss: 6.2745e-05\n",
      "Epoch 14/30\n",
      "90/90 [==============================] - 18s 205ms/step - loss: 6.7157e-052s - loss:\n",
      "Epoch 15/30\n",
      "90/90 [==============================] - 19s 209ms/step - loss: 5.8451e-05\n",
      "Epoch 16/30\n",
      "90/90 [==============================] - 18s 204ms/step - loss: 8.1625e-05\n",
      "Epoch 17/30\n",
      "90/90 [==============================] - 19s 216ms/step - loss: 5.6409e-05\n",
      "Epoch 18/30\n",
      "90/90 [==============================] - 19s 209ms/step - loss: 5.1635e-05\n",
      "Epoch 19/30\n",
      "90/90 [==============================] - 19s 206ms/step - loss: 8.5277e-05\n",
      "Epoch 20/30\n",
      "90/90 [==============================] - 19s 212ms/step - loss: 4.8832e-05\n",
      "Epoch 21/30\n",
      "90/90 [==============================] - 19s 213ms/step - loss: 1.1812e-04\n",
      "Epoch 22/30\n",
      "90/90 [==============================] - 18s 200ms/step - loss: 5.6935e-053s\n",
      "Epoch 23/30\n",
      "90/90 [==============================] - 21s 232ms/step - loss: 4.9092e-05\n",
      "Epoch 24/30\n",
      "90/90 [==============================] - 19s 212ms/step - loss: 7.9277e-05\n",
      "Epoch 25/30\n",
      "90/90 [==============================] - 19s 215ms/step - loss: 9.3706e-05\n",
      "Epoch 26/30\n",
      "90/90 [==============================] - 19s 207ms/step - loss: 5.6967e-05\n",
      "Epoch 27/30\n",
      "90/90 [==============================] - 20s 217ms/step - loss: 4.1799e-05\n",
      "Epoch 28/30\n",
      "90/90 [==============================] - 20s 221ms/step - loss: 6.8661e-05\n",
      "Epoch 29/30\n",
      "90/90 [==============================] - 20s 217ms/step - loss: 4.8986e-05\n",
      "Epoch 30/30\n",
      "90/90 [==============================] - 19s 210ms/step - loss: 5.4116e-05\n"
     ]
    }
   ],
   "source": [
    "history = model.fit(np.expand_dims(dataset[:900],axis = 2),np.expand_dims(dataset[:900],axis = 2),batch_size = 10,epochs = 30)"
   ]
  },
  {
   "cell_type": "code",
   "execution_count": 46,
   "id": "0159e674",
   "metadata": {},
   "outputs": [],
   "source": [
    "predicted = model.predict(np.expand_dims(dataset[900:1000],axis = 2))"
   ]
  },
  {
   "cell_type": "code",
   "execution_count": 47,
   "id": "d7b3a1e8",
   "metadata": {},
   "outputs": [
    {
     "data": {
      "text/plain": [
       "array([8.83007558e-05, 4.67280312e-03, 4.08572927e+01])"
      ]
     },
     "execution_count": 47,
     "metadata": {},
     "output_type": "execute_result"
    }
   ],
   "source": [
    "np.array([get_metrics(dataset[900 + i],predicted[i].flatten()) for i in range(100)]).mean(axis = 0)"
   ]
  },
  {
   "cell_type": "markdown",
   "id": "398cee15",
   "metadata": {},
   "source": [
    "CR 2:1"
   ]
  },
  {
   "cell_type": "code",
   "execution_count": 63,
   "id": "c9fb8fbd",
   "metadata": {},
   "outputs": [],
   "source": [
    "model = keras.Sequential([\n",
    "    #encoding\n",
    "    keras.layers.Conv1D(8, 3, activation='elu', padding=\"same\", input_shape=[4000,1]),\n",
    "    keras.layers.MaxPooling1D(pool_size=2),\n",
    "    keras.layers.Conv1D(16, 3, activation='elu', padding=\"same\"),\n",
    "    keras.layers.Conv1D(32, 3, activation='elu', padding=\"same\"),\n",
    "    keras.layers.Conv1D(64, 3, activation='elu', padding=\"same\"),\n",
    "    keras.layers.Conv1D(128, 3, activation='elu', padding=\"same\"),\n",
    "    #encoded\n",
    "    keras.layers.Conv1D(1, 3, activation='elu', padding=\"same\"),\n",
    "    #decoding\n",
    "    keras.layers.Conv1DTranspose(128, 3, activation='elu', padding=\"same\"),\n",
    "    keras.layers.Conv1DTranspose(64, 3, activation='elu', padding=\"same\"),\n",
    "    keras.layers.Conv1DTranspose(32, 3, activation='elu', padding=\"same\"),\n",
    "    keras.layers.Conv1DTranspose(16, 3, activation='elu', padding=\"same\"),\n",
    "    keras.layers.UpSampling1D(size=2),\n",
    "    keras.layers.Conv1DTranspose(8, 3, activation='elu', padding=\"same\"),\n",
    "    keras.layers.Conv1DTranspose(1, 3, padding=\"same\"),\n",
    "  ])"
   ]
  },
  {
   "cell_type": "code",
   "execution_count": 64,
   "id": "825135a2",
   "metadata": {},
   "outputs": [],
   "source": [
    "optimizer = tf.keras.optimizers.Adam(0.001)\n",
    "model.compile(loss='mean_squared_error',optimizer=optimizer)"
   ]
  },
  {
   "cell_type": "code",
   "execution_count": 65,
   "id": "ec2b9838",
   "metadata": {
    "scrolled": true
   },
   "outputs": [
    {
     "name": "stdout",
     "output_type": "stream",
     "text": [
      "Epoch 1/30\n",
      "90/90 [==============================] - 26s 294ms/step - loss: 0.0147\n",
      "Epoch 2/30\n",
      "90/90 [==============================] - 26s 289ms/step - loss: 2.8547e-04\n",
      "Epoch 3/30\n",
      "90/90 [==============================] - 25s 282ms/step - loss: 2.0497e-04\n",
      "Epoch 4/30\n",
      "90/90 [==============================] - 25s 274ms/step - loss: 1.5534e-04\n",
      "Epoch 5/30\n",
      "90/90 [==============================] - 25s 279ms/step - loss: 1.2586e-04\n",
      "Epoch 6/30\n",
      "90/90 [==============================] - 26s 286ms/step - loss: 1.0479e-04\n",
      "Epoch 7/30\n",
      "90/90 [==============================] - 31s 346ms/step - loss: 8.4472e-05\n",
      "Epoch 8/30\n",
      "90/90 [==============================] - 32s 352ms/step - loss: 6.6350e-05\n",
      "Epoch 9/30\n",
      "90/90 [==============================] - 31s 347ms/step - loss: 5.8534e-05\n",
      "Epoch 10/30\n",
      "90/90 [==============================] - 32s 351ms/step - loss: 5.2984e-05\n",
      "Epoch 11/30\n",
      "90/90 [==============================] - 31s 345ms/step - loss: 4.1412e-05\n",
      "Epoch 12/30\n",
      "90/90 [==============================] - 34s 383ms/step - loss: 4.3589e-05\n",
      "Epoch 13/30\n",
      "90/90 [==============================] - 38s 421ms/step - loss: 3.1206e-05\n",
      "Epoch 14/30\n",
      "90/90 [==============================] - 32s 352ms/step - loss: 3.5779e-05\n",
      "Epoch 15/30\n",
      "90/90 [==============================] - 32s 359ms/step - loss: 3.6539e-05\n",
      "Epoch 16/30\n",
      "90/90 [==============================] - 36s 399ms/step - loss: 3.1019e-05\n",
      "Epoch 17/30\n",
      "90/90 [==============================] - 34s 376ms/step - loss: 3.5925e-05\n",
      "Epoch 18/30\n",
      "90/90 [==============================] - 35s 383ms/step - loss: 5.2848e-05\n",
      "Epoch 19/30\n",
      "90/90 [==============================] - 33s 369ms/step - loss: 5.1116e-05\n",
      "Epoch 20/30\n",
      "90/90 [==============================] - 27s 296ms/step - loss: 3.6997e-05\n",
      "Epoch 21/30\n",
      "90/90 [==============================] - 26s 288ms/step - loss: 2.3379e-05\n",
      "Epoch 22/30\n",
      "90/90 [==============================] - 25s 279ms/step - loss: 2.5147e-05\n",
      "Epoch 23/30\n",
      "90/90 [==============================] - 24s 272ms/step - loss: 3.1935e-05\n",
      "Epoch 24/30\n",
      "90/90 [==============================] - 24s 270ms/step - loss: 5.3569e-05\n",
      "Epoch 25/30\n",
      "90/90 [==============================] - 24s 270ms/step - loss: 3.1328e-05\n",
      "Epoch 26/30\n",
      "90/90 [==============================] - 24s 272ms/step - loss: 2.4157e-05\n",
      "Epoch 27/30\n",
      "90/90 [==============================] - 24s 272ms/step - loss: 9.4833e-05\n",
      "Epoch 28/30\n",
      "90/90 [==============================] - 25s 279ms/step - loss: 2.1078e-05\n",
      "Epoch 29/30\n",
      "90/90 [==============================] - 25s 280ms/step - loss: 3.9155e-05\n",
      "Epoch 30/30\n",
      "90/90 [==============================] - 25s 277ms/step - loss: 2.4382e-05\n"
     ]
    }
   ],
   "source": [
    "history = model.fit(np.expand_dims(dataset[:900],axis = 2),np.expand_dims(dataset[:900],axis = 2),batch_size = 10,epochs = 30)"
   ]
  },
  {
   "cell_type": "code",
   "execution_count": 66,
   "id": "2d656eaf",
   "metadata": {},
   "outputs": [],
   "source": [
    "predicted = model.predict(np.expand_dims(dataset[900:1000],axis = 2))"
   ]
  },
  {
   "cell_type": "code",
   "execution_count": 67,
   "id": "b56766a7",
   "metadata": {},
   "outputs": [
    {
     "data": {
      "text/plain": [
       "array([2.36526930e-05, 2.40264414e-03, 4.66773394e+01])"
      ]
     },
     "execution_count": 67,
     "metadata": {},
     "output_type": "execute_result"
    }
   ],
   "source": [
    "np.array([get_metrics(dataset[900 + i],predicted[i].flatten()) for i in range(100)]).mean(axis = 0)"
   ]
  },
  {
   "cell_type": "code",
   "execution_count": 22,
   "id": "cba005bf",
   "metadata": {},
   "outputs": [
    {
     "data": {
      "image/png": "[encoded data removed]",
      "text/plain": [
       "<Figure size 432x288 with 1 Axes>"
      ]
     },
     "metadata": {
      "needs_background": "light"
     },
     "output_type": "display_data"
    }
   ],
   "source": [
    "plt.plot(predicted[0].flatten(),label = \"predicted\")\n",
    "plt.plot(X[0],label = \"actual\")\n",
    "plt.legend()\n",
    "plt.show()"
   ]
  },
  {
   "cell_type": "code",
   "execution_count": null,
   "id": "3e955200",
   "metadata": {},
   "outputs": [],
   "source": []
  }
 ],
 "metadata": {
  "kernelspec": {
   "display_name": "Python 3",
   "language": "python",
   "name": "python3"
  },
  "language_info": {
   "codemirror_mode": {
    "name": "ipython",
    "version": 3
   },
   "file_extension": ".py",
   "mimetype": "text/x-python",
   "name": "python",
   "nbconvert_exporter": "python",
   "pygments_lexer": "ipython3",
   "version": "3.8.8"
  }
 },
 "nbformat": 4,
 "nbformat_minor": 5
}
